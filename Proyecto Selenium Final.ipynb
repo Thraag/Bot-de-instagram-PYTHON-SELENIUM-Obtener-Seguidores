{
 "cells": [
  {
   "cell_type": "code",
   "execution_count": 19,
   "metadata": {},
   "outputs": [],
   "source": [
    "from selenium import webdriver\n",
    "from selenium.webdriver.chrome.options import Options\n",
    "from selenium.webdriver.common.by import By  # Importa la clase By\n",
    "from time import sleep\n",
    "import random\n",
    "from selenium.webdriver.common.keys import Keys\n"
   ]
  },
  {
   "cell_type": "code",
   "execution_count": 20,
   "metadata": {},
   "outputs": [],
   "source": [
    "def NA5A8():\n",
    "    tiempo_espera3 = random.uniform(5,8)\n",
    "    return tiempo_espera3"
   ]
  },
  {
   "cell_type": "code",
   "execution_count": 27,
   "metadata": {},
   "outputs": [],
   "source": [
    "options = Options()\n",
    "options.binary_location = r'C:\\Program Files\\Google\\Chrome\\Application\\chrome.exe'\n",
    "# options.add_argument(\"--incognito\")\n",
    "\n",
    "driver = webdriver.Chrome(options=options)\n",
    "driver.get(\"https://www.instagram.com/\")\n",
    "sleep(NA5A8())"
   ]
  },
  {
   "cell_type": "code",
   "execution_count": 26,
   "metadata": {},
   "outputs": [],
   "source": [
    "username_input = driver.find_element(By.XPATH, '//*[@id=\"loginForm\"]/div/div[1]/div/label/input')\n",
    "password_input = driver.find_element(By.XPATH, '//*[@id=\"loginForm\"]/div/div[2]/div/label/input')\n",
    "\n",
    "username_input.send_keys(\"USUARIO\")\n",
    "password_input.send_keys(\"PASSWORD\")\n",
    "login_button = driver.find_element(By.XPATH, '//*[@id=\"loginForm\"]/div/div[3]/button')\n",
    "login_button.click()\n",
    "sleep(NA5A8())\n"
   ]
  },
  {
   "cell_type": "code",
   "execution_count": null,
   "metadata": {},
   "outputs": [],
   "source": [
    "# info_se = driver.find_element(By.XPATH,'//div[text()=\"Ahora no\"]')\n",
    "# info_se.click()\n",
    "# sleep(5)"
   ]
  },
  {
   "cell_type": "code",
   "execution_count": 16,
   "metadata": {},
   "outputs": [],
   "source": [
    "info_se2 = driver.find_element(By.XPATH,'//button[text()=\"Ahora no\"]')\n",
    "info_se2.click()\n",
    "sleep(NA5A8())"
   ]
  },
  {
   "cell_type": "code",
   "execution_count": 17,
   "metadata": {},
   "outputs": [],
   "source": [
    "click_lienzo = driver.find_element(By.XPATH,'//span[text()=\"lienzo.serigrafia\"]')\n",
    "sleep(1)\n",
    "click_lienzo.click()"
   ]
  },
  {
   "cell_type": "code",
   "execution_count": 18,
   "metadata": {},
   "outputs": [],
   "source": [
    "goseguidores = driver.find_element(By.XPATH, '//a[contains(@class, \"x1i10hfl xjbqb8w x1ejq31n xd10rxx x1sy0etr x17r0tee x972fbf xcfux6l x1qhh985 xm0m39n x9f619 x1ypdohk xt0psk2 xe8uvvx xdj266r x11i5rnm xat24cr x1mh8g0r xexx8yu x4uap5 x18d9i69 xkhd6sd x16tdsg8 x1hl2dhg xggy1nq x1a2a7pz _alvs _a6hd\")]')\n",
    "goseguidores.click()\n",
    "sleep(NA5A8())"
   ]
  },
  {
   "cell_type": "code",
   "execution_count": null,
   "metadata": {},
   "outputs": [],
   "source": [
    "#llendo a la LUPA\n",
    "go_lupa = driver.find_element(By.XPATH, '//*[@id=\"mount_0_0_PK\"]/div/div/div[2]/div/div/div[1]/div[1]/div[1]/div/div/div/div/div[2]/div[2]/span/div/a/div')\n",
    "go_lupa.click()\n",
    "\n",
    "sleep(NA5A8())\n"
   ]
  },
  {
   "cell_type": "code",
   "execution_count": null,
   "metadata": {},
   "outputs": [],
   "source": [
    "# CLICKEANDO Y ESCRIBIENDO EN EL PLACE HOLDER para ir a la pag\n",
    "go_placeholder = driver.find_element(By.XPATH, '/html/body/div[2]/div/div/div[2]/div/div/div[1]/div[1]/div[1]/div/div/div[2]/div/div/div[2]/div/div/div[1]/div/div/input')\n",
    "go_placeholder.click()\n",
    "sleep(3)\n",
    "go_placeholder.send_keys(\"lienzo.serigrafia\")\n",
    "sleep(3)"
   ]
  },
  {
   "cell_type": "code",
   "execution_count": null,
   "metadata": {},
   "outputs": [],
   "source": [
    "# CLICKEANDO en lienzo DESPUES DE ESCRIBIR EN PLACE HOLDER\n",
    "click_lienzo = driver.find_element(By.XPATH,'//span[text()=\"lienzo.serigrafia\"]')\n",
    "sleep(1)\n",
    "click_lienzo.click()"
   ]
  },
  {
   "cell_type": "code",
   "execution_count": null,
   "metadata": {},
   "outputs": [],
   "source": [
    "goseguidores = driver.find_element(By.XPATH, '//a[contains(@class, \"x1i10hfl xjbqb8w x1ejq31n xd10rxx x1sy0etr x17r0tee x972fbf xcfux6l x1qhh985 xm0m39n x9f619 x1ypdohk xt0psk2 xe8uvvx xdj266r x11i5rnm xat24cr x1mh8g0r xexx8yu x4uap5 x18d9i69 xkhd6sd x16tdsg8 x1hl2dhg xggy1nq x1a2a7pz _alvs _a6hd\")]')\n",
    "goseguidores.click()\n",
    "sleep(NA5A8())"
   ]
  },
  {
   "cell_type": "code",
   "execution_count": null,
   "metadata": {},
   "outputs": [],
   "source": [
    "# SETEANDO EL PRIMER SEGUIDOR PARA BAJAR \n",
    "element_inside_popup = driver.find_element(By.XPATH, '//button[contains(@class, \"_acan _acap _acas _aj1- _ap30\")]')"
   ]
  },
  {
   "cell_type": "code",
   "execution_count": null,
   "metadata": {},
   "outputs": [],
   "source": [
    "for _ in range(1925):\n",
    "    # Enviar la tecla END\n",
    "    element_inside_popup.send_keys(Keys.END)\n",
    "    # Esperar 3 segundos\n",
    "    sleep(NA5A8())"
   ]
  },
  {
   "cell_type": "code",
   "execution_count": null,
   "metadata": {},
   "outputs": [],
   "source": [
    "# Encontrar todos los elementos span con la clase específica\n",
    "span_elements = driver.find_elements(By.XPATH, '//span[contains(@class, \"_ap3a _aaco _aacw _aacx _aad7 _aade\")]')\n",
    "\n",
    "# Obtener el texto de cada elemento span y guardarlo en una lista\n",
    "user_names = [element.text for element in span_elements]\n",
    "\n",
    "# Imprimir los nombres de usuario\n",
    "for name in user_names:\n",
    "    print(name)\n",
    "\n",
    "\n"
   ]
  },
  {
   "cell_type": "code",
   "execution_count": null,
   "metadata": {},
   "outputs": [],
   "source": [
    "# Escribir los nombres de usuario en un archivo de texto\n",
    "with open(\"user_names.txt\", \"w\") as file:\n",
    "    for name in user_names:\n",
    "        file.write(name + \"\\n\")"
   ]
  },
  {
   "cell_type": "code",
   "execution_count": null,
   "metadata": {},
   "outputs": [],
   "source": [
    "print(user_names)\n",
    "print(len(user_names))"
   ]
  }
 ],
 "metadata": {
  "kernelspec": {
   "display_name": "Python 3",
   "language": "python",
   "name": "python3"
  },
  "language_info": {
   "codemirror_mode": {
    "name": "ipython",
    "version": 3
   },
   "file_extension": ".py",
   "mimetype": "text/x-python",
   "name": "python",
   "nbconvert_exporter": "python",
   "pygments_lexer": "ipython3",
   "version": "3.12.0"
  }
 },
 "nbformat": 4,
 "nbformat_minor": 2
}
